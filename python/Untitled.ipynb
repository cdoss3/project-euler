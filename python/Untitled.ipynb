{
 "cells": [
  {
   "cell_type": "markdown",
   "id": "c5ecff8a",
   "metadata": {},
   "source": [
    "# Problem 20 (Solved)\n",
    "\n",
    "n! means n × (n − 1) × ... × 3 × 2 × 1\n",
    "\n",
    "For example, 10! = 10 × 9 × ... × 3 × 2 × 1 = 3628800,\n",
    "and the sum of the digits in the number 10! is 3 + 6 + 2 + 8 + 8 + 0 + 0 = 27.\n",
    "\n",
    "Find the sum of the digits in the number 100!"
   ]
  },
  {
   "cell_type": "code",
   "execution_count": 7,
   "id": "e9694ca2",
   "metadata": {},
   "outputs": [
    {
     "name": "stdout",
     "output_type": "stream",
     "text": [
      "24\n",
      "720\n",
      "1\n",
      "93326215443944152681699238856266700490715968264381621468592963895217599993229915608941463976156518286253697920827223758251185210916864000000000000000000000000\n"
     ]
    }
   ],
   "source": [
    "digit_sum = 0\n",
    "\n",
    "def factorial(num):\n",
    "    s = num\n",
    "    total = num\n",
    "    while s > 1:\n",
    "        total = total * (s - 1)\n",
    "        s += -1\n",
    "    return total\n",
    "\n",
    "print(factorial(4))\n",
    "print(factorial(6))\n",
    "print(factorial(1))\n",
    "print(factorial(100))"
   ]
  },
  {
   "cell_type": "code",
   "execution_count": 9,
   "id": "b6b120e7",
   "metadata": {},
   "outputs": [
    {
     "name": "stdout",
     "output_type": "stream",
     "text": [
      "648\n"
     ]
    }
   ],
   "source": [
    "total = 0\n",
    "numstring = str(factorial(100))\n",
    "\n",
    "for dig in numstring:\n",
    "    total += int(dig)\n",
    "\n",
    "print(total)"
   ]
  },
  {
   "cell_type": "code",
   "execution_count": null,
   "id": "63339fad",
   "metadata": {},
   "outputs": [],
   "source": [
    "for dig in numlist:"
   ]
  }
 ],
 "metadata": {
  "kernelspec": {
   "display_name": "Python 3",
   "language": "python",
   "name": "python3"
  },
  "language_info": {
   "codemirror_mode": {
    "name": "ipython",
    "version": 3
   },
   "file_extension": ".py",
   "mimetype": "text/x-python",
   "name": "python",
   "nbconvert_exporter": "python",
   "pygments_lexer": "ipython3",
   "version": "3.8.8"
  }
 },
 "nbformat": 4,
 "nbformat_minor": 5
}
