{
 "cells": [
  {
   "cell_type": "markdown",
   "id": "8161e55e",
   "metadata": {},
   "source": [
    "# Problem 14\n",
    "\n",
    "The following iterative sequence is defined for the set of positive integers:\n",
    "\n",
    "n → n/2 (n is even)\n",
    "n → 3n + 1 (n is odd)\n",
    "\n",
    "Using the rule above and starting with 13, we generate the following sequence:\n",
    "\n",
    "13 → 40 → 20 → 10 → 5 → 16 → 8 → 4 → 2 → 1\n",
    "It can be seen that this sequence (starting at 13 and finishing at 1) contains 10 terms. Although it has not been proved yet (Collatz Problem), it is thought that all starting numbers finish at 1.\n",
    "\n",
    "Which starting number, under one million, produces the longest chain?\n",
    "\n",
    "NOTE: Once the chain starts the terms are allowed to go above one million."
   ]
  },
  {
   "cell_type": "code",
   "execution_count": 12,
   "id": "00d17717",
   "metadata": {},
   "outputs": [
    {
     "name": "stdout",
     "output_type": "stream",
     "text": [
      "[13, 40, 20, 10, 5, 16, 8, 4, 2, 1]\n",
      "[4, 2, 1]\n",
      "[1]\n"
     ]
    }
   ],
   "source": [
    "# Define a function to return a collatz sequence as a list given a starting number as an argument\n",
    "\n",
    "def collatz(num):\n",
    "    \"\"\"Return a collatz sequence for a given number\"\"\"\n",
    "    sequence = []\n",
    "    current = num\n",
    "    while current != 1:\n",
    "        sequence.append(current)\n",
    "        if current % 2 == 0:\n",
    "            current = current // 2\n",
    "        else:\n",
    "            current = 3 * current + 1\n",
    "    sequence.append(1)\n",
    "    return sequence\n",
    "\n",
    "print(collatz(13))\n",
    "print(collatz(4))\n",
    "print(collatz(1))"
   ]
  },
  {
   "cell_type": "code",
   "execution_count": 13,
   "id": "380871cd",
   "metadata": {},
   "outputs": [
    {
     "name": "stdout",
     "output_type": "stream",
     "text": [
      "525 837799\n"
     ]
    }
   ],
   "source": [
    "# Iterate through numbers less than 1,000,000 and apply the collatz function defined above.\n",
    "# Keep track of the longest sequence as well as which number supplied it.\n",
    "\n",
    "longest = 0\n",
    "big_n = 0\n",
    "\n",
    "for n in range(1, 1_000_000):\n",
    "    sequence = collatz(n)\n",
    "    length = len(sequence)\n",
    "    if length > longest:\n",
    "        longest = length\n",
    "        big_n = n\n",
    "\n",
    "print(longest, big_n)"
   ]
  }
 ],
 "metadata": {
  "kernelspec": {
   "display_name": "Python 3",
   "language": "python",
   "name": "python3"
  },
  "language_info": {
   "codemirror_mode": {
    "name": "ipython",
    "version": 3
   },
   "file_extension": ".py",
   "mimetype": "text/x-python",
   "name": "python",
   "nbconvert_exporter": "python",
   "pygments_lexer": "ipython3",
   "version": "3.8.8"
  }
 },
 "nbformat": 4,
 "nbformat_minor": 5
}
