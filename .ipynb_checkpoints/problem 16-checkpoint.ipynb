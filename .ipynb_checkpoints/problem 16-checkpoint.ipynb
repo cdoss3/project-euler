{
 "cells": [
  {
   "cell_type": "markdown",
   "id": "a1e7923f",
   "metadata": {},
   "source": [
    "# Problem 16\n",
    "\n",
    "2^15 = 32768 and the sum of its digits is 3 + 2 + 7 + 6 + 8 = 26.\n",
    "\n",
    "What is the sum of the digits of the number 2^1000?"
   ]
  },
  {
   "cell_type": "code",
   "execution_count": 2,
   "id": "ff3070b8",
   "metadata": {},
   "outputs": [
    {
     "name": "stdout",
     "output_type": "stream",
     "text": [
      "34\n"
     ]
    }
   ],
   "source": [
    "# Define a function to sum the digits in a number\n",
    "\n",
    "def digit_sum(num):\n",
    "    digit_list = []\n",
    "    total = 0\n",
    "    for digit in str(num):\n",
    "        digit_list.append(int(digit))\n",
    "    for digit in digit_list:\n",
    "        total += digit\n",
    "    return total\n",
    "\n",
    "print(digit_sum(45523456))"
   ]
  },
  {
   "cell_type": "code",
   "execution_count": 4,
   "id": "97e8f836",
   "metadata": {},
   "outputs": [
    {
     "name": "stdout",
     "output_type": "stream",
     "text": [
      "1366\n",
      "1366\n"
     ]
    }
   ],
   "source": [
    "# Define 2^1000 to be a variable then use the digit_sum function\n",
    "# to find the sum of the digits\n",
    "\n",
    "var = 2 ** 1000\n",
    "\n",
    "print(digit_sum(var))\n",
    "print(digit_sum(2 ** 1000))"
   ]
  }
 ],
 "metadata": {
  "kernelspec": {
   "display_name": "Python 3",
   "language": "python",
   "name": "python3"
  },
  "language_info": {
   "codemirror_mode": {
    "name": "ipython",
    "version": 3
   },
   "file_extension": ".py",
   "mimetype": "text/x-python",
   "name": "python",
   "nbconvert_exporter": "python",
   "pygments_lexer": "ipython3",
   "version": "3.8.8"
  }
 },
 "nbformat": 4,
 "nbformat_minor": 5
}
