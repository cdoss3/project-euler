{
 "cells": [
  {
   "cell_type": "markdown",
   "id": "2f65b083",
   "metadata": {},
   "source": [
    "# Problem 17\n",
    "\n",
    "If the numbers 1 to 5 are written out in words: one, two, three, four, five, then there are 3 + 3 + 5 + 4 + 4 = 19 letters used in total.\n",
    "\n",
    "If all the numbers from 1 to 1000 (one thousand) inclusive were written out in words, how many letters would be used?\n",
    "\n",
    "\n",
    "NOTE: Do not count spaces or hyphens. For example, 342 (three hundred and forty-two) contains 23 letters and 115 (one hundred and fifteen) contains 20 letters. The use of \"and\" when writing out numbers is in compliance with British usage."
   ]
  },
  {
   "cell_type": "code",
   "execution_count": 25,
   "id": "77f3ba9d",
   "metadata": {},
   "outputs": [],
   "source": [
    "def ones(num):\n",
    "    if num[-1] == '1':\n",
    "        return 'one'\n",
    "    elif num[-1] == '2':\n",
    "        return 'two'\n",
    "    elif num[-1] == '3':\n",
    "        return 'three'\n",
    "    elif num[-1] ==  '4':\n",
    "        return 'four'\n",
    "    elif num[-1] == '5':\n",
    "        return 'five'\n",
    "    elif num[-1] == '6':\n",
    "        return 'six'\n",
    "    elif num[-1] == '7':\n",
    "        return 'seven'\n",
    "    elif num[-1] == '8':\n",
    "        return 'eight'\n",
    "    elif num[-1] == '9':\n",
    "        return 'nine'\n",
    "\n",
    "def tens(num):\n",
    "    if num[-2] == '1':\n",
    "        pass\n",
    "        # Bookmark\n",
    "    elif num[-2] == '2':\n",
    "        return 'twenty'\n",
    "    elif num[-2] == '3':\n",
    "        return 'thirty'\n",
    "    elif num[-2] == '4':\n",
    "        return 'forty'\n",
    "    elif num[-2] == '5':\n",
    "        return 'fifty'\n",
    "    elif num[-2] == '6':\n",
    "        return 'sixty'\n",
    "    elif num[-2] == '7':\n",
    "        return 'seventy'\n",
    "    elif num[-2] == '8':\n",
    "        return 'eighty'\n",
    "    elif num[-2] == '9':\n",
    "        return 'ninety'\n",
    "\n",
    "def hundreds(num):\n",
    "    if num == '1':\n",
    "        return 'one hundred'\n",
    "    if num == '2':\n",
    "        return 'two hundred'\n",
    "    if num == '3':\n",
    "        return 'three hundred'\n",
    "    if num == '4':\n",
    "        return 'four hundred'\n",
    "    if num == '5':\n",
    "        return 'five hundred'\n",
    "    if num == '6':\n",
    "        return 'six hundred'\n",
    "    if num == '7':\n",
    "        return 'seven hundred'\n",
    "    if num == '8':\n",
    "        return 'eight hundred'\n",
    "    if num == '9':\n",
    "        return 'nine hundred'\n",
    "\n",
    "def strsum(word):\n",
    "    count = 0\n",
    "    for letter in word:\n",
    "        count += 1\n",
    "    return count"
   ]
  },
  {
   "cell_type": "code",
   "execution_count": 26,
   "id": "27709751",
   "metadata": {},
   "outputs": [
    {
     "name": "stdout",
     "output_type": "stream",
     "text": [
      "4\n",
      "3\n",
      "8\n"
     ]
    }
   ],
   "source": [
    "print(strsum('nine'))\n",
    "print(strsum('one'))\n",
    "print(strsum('elephant'))"
   ]
  },
  {
   "cell_type": "code",
   "execution_count": 28,
   "id": "581ebf0f",
   "metadata": {},
   "outputs": [
    {
     "ename": "IndexError",
     "evalue": "string index out of range",
     "output_type": "error",
     "traceback": [
      "\u001b[1;31m---------------------------------------------------------------------------\u001b[0m",
      "\u001b[1;31mIndexError\u001b[0m                                Traceback (most recent call last)",
      "\u001b[1;32m<ipython-input-28-b166cf78f4c6>\u001b[0m in \u001b[0;36m<module>\u001b[1;34m\u001b[0m\n\u001b[0;32m     10\u001b[0m         \u001b[1;31m# Two digits\u001b[0m\u001b[1;33m\u001b[0m\u001b[1;33m\u001b[0m\u001b[1;33m\u001b[0m\u001b[0m\n\u001b[0;32m     11\u001b[0m         \u001b[1;32mif\u001b[0m \u001b[0mtens\u001b[0m\u001b[1;33m(\u001b[0m\u001b[0mstrk\u001b[0m\u001b[1;33m)\u001b[0m\u001b[1;33m:\u001b[0m\u001b[1;33m\u001b[0m\u001b[1;33m\u001b[0m\u001b[0m\n\u001b[1;32m---> 12\u001b[1;33m             \u001b[0mwordlist\u001b[0m\u001b[1;33m.\u001b[0m\u001b[0mappend\u001b[0m\u001b[1;33m(\u001b[0m\u001b[0mtens\u001b[0m\u001b[1;33m(\u001b[0m\u001b[0mstrk\u001b[0m\u001b[1;33m[\u001b[0m\u001b[1;33m-\u001b[0m\u001b[1;36m2\u001b[0m\u001b[1;33m]\u001b[0m\u001b[1;33m)\u001b[0m\u001b[1;33m)\u001b[0m\u001b[1;33m\u001b[0m\u001b[1;33m\u001b[0m\u001b[0m\n\u001b[0m\u001b[0;32m     13\u001b[0m             \u001b[0mwordlist\u001b[0m\u001b[1;33m.\u001b[0m\u001b[0mappend\u001b[0m\u001b[1;33m(\u001b[0m\u001b[0mones\u001b[0m\u001b[1;33m(\u001b[0m\u001b[0mstrk\u001b[0m\u001b[1;33m[\u001b[0m\u001b[1;33m-\u001b[0m\u001b[1;36m1\u001b[0m\u001b[1;33m]\u001b[0m\u001b[1;33m)\u001b[0m\u001b[1;33m)\u001b[0m\u001b[1;33m\u001b[0m\u001b[1;33m\u001b[0m\u001b[0m\n\u001b[0;32m     14\u001b[0m     \u001b[1;32mif\u001b[0m \u001b[0mlen\u001b[0m\u001b[1;33m(\u001b[0m\u001b[0mstrk\u001b[0m\u001b[1;33m)\u001b[0m \u001b[1;33m==\u001b[0m \u001b[1;36m3\u001b[0m\u001b[1;33m:\u001b[0m\u001b[1;33m\u001b[0m\u001b[1;33m\u001b[0m\u001b[0m\n",
      "\u001b[1;32m<ipython-input-25-b22a44b41f85>\u001b[0m in \u001b[0;36mtens\u001b[1;34m(num)\u001b[0m\n\u001b[0;32m     20\u001b[0m \u001b[1;33m\u001b[0m\u001b[0m\n\u001b[0;32m     21\u001b[0m \u001b[1;32mdef\u001b[0m \u001b[0mtens\u001b[0m\u001b[1;33m(\u001b[0m\u001b[0mnum\u001b[0m\u001b[1;33m)\u001b[0m\u001b[1;33m:\u001b[0m\u001b[1;33m\u001b[0m\u001b[1;33m\u001b[0m\u001b[0m\n\u001b[1;32m---> 22\u001b[1;33m     \u001b[1;32mif\u001b[0m \u001b[0mnum\u001b[0m\u001b[1;33m[\u001b[0m\u001b[1;33m-\u001b[0m\u001b[1;36m2\u001b[0m\u001b[1;33m]\u001b[0m \u001b[1;33m==\u001b[0m \u001b[1;34m'1'\u001b[0m\u001b[1;33m:\u001b[0m\u001b[1;33m\u001b[0m\u001b[1;33m\u001b[0m\u001b[0m\n\u001b[0m\u001b[0;32m     23\u001b[0m         \u001b[1;32mpass\u001b[0m\u001b[1;33m\u001b[0m\u001b[1;33m\u001b[0m\u001b[0m\n\u001b[0;32m     24\u001b[0m         \u001b[1;31m# Bookmark\u001b[0m\u001b[1;33m\u001b[0m\u001b[1;33m\u001b[0m\u001b[1;33m\u001b[0m\u001b[0m\n",
      "\u001b[1;31mIndexError\u001b[0m: string index out of range"
     ]
    }
   ],
   "source": [
    "letter_sum = 0\n",
    "wordlist = []\n",
    "\n",
    "for k in range(1, 1001):\n",
    "    strk = str(k)\n",
    "    if len(strk) == 1:\n",
    "        # One digit\n",
    "        wordlist.append(ones(strk))\n",
    "    if len(strk) == 2:\n",
    "        # Two digits\n",
    "        if tens(strk):\n",
    "            wordlist.append(tens(strk[-2]))\n",
    "            wordlist.append(ones(strk[-1]))\n",
    "    if len(strk) == 3:\n",
    "        # Three digits\n",
    "        pass\n",
    "    letter_sum += 11\n",
    "\n",
    "print(wordlist)\n",
    "\n",
    "final = 0\n",
    "\n",
    "for word in wordlist:\n",
    "    final += strsum(word)\n",
    "\n",
    "print(final)"
   ]
  }
 ],
 "metadata": {
  "kernelspec": {
   "display_name": "Python 3",
   "language": "python",
   "name": "python3"
  },
  "language_info": {
   "codemirror_mode": {
    "name": "ipython",
    "version": 3
   },
   "file_extension": ".py",
   "mimetype": "text/x-python",
   "name": "python",
   "nbconvert_exporter": "python",
   "pygments_lexer": "ipython3",
   "version": "3.8.8"
  }
 },
 "nbformat": 4,
 "nbformat_minor": 5
}
