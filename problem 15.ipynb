{
 "cells": [
  {
   "cell_type": "markdown",
   "id": "03f70b8a",
   "metadata": {},
   "source": [
    "# Problem 15\n",
    "\n",
    "Starting in the top left corner of a 2x2 grid, and only being able to move to the right and down, there are exactly 6 routes to the bottom right corner.\n",
    "\n",
    "How many such routs are there through a 20x20 grid?"
   ]
  },
  {
   "cell_type": "code",
   "execution_count": 5,
   "id": "1cd1acb0",
   "metadata": {},
   "outputs": [],
   "source": [
    "# Use these to describe the grid size later. test_x and test_y will\n",
    "# be used to test the process on a 2x2 grid.\n",
    "\n",
    "test_x = 2\n",
    "test_y = 2\n",
    "final_x = 20\n",
    "final_y = 20"
   ]
  },
  {
   "cell_type": "code",
   "execution_count": 11,
   "id": "de94b775",
   "metadata": {},
   "outputs": [],
   "source": [
    "# The above is cumbersome. Create a class for a point on the grid\n",
    "# and use methods to move the point around\n",
    "\n",
    "class Point:\n",
    "    def __init__(self):\n",
    "        self.x = 0\n",
    "        self.y = 0\n",
    "    \n",
    "    def x_move(self, dist):\n",
    "        self.x += dist\n",
    "    \n",
    "    def y_move(self, dist):\n",
    "        self.y += dist\n",
    "    \n",
    "    def __repr__(self):\n",
    "        return f\"The point is located at coordinates ({self.x}, {self.y})\""
   ]
  },
  {
   "cell_type": "code",
   "execution_count": 14,
   "id": "6fff638c",
   "metadata": {},
   "outputs": [
    {
     "name": "stdout",
     "output_type": "stream",
     "text": [
      "The point is located at coordinates (12, 4)\n"
     ]
    }
   ],
   "source": [
    "test = Point()\n",
    "test.x_move(12)\n",
    "test.y_move(4)\n",
    "\n",
    "print(test)"
   ]
  },
  {
   "cell_type": "code",
   "execution_count": null,
   "id": "6023a955",
   "metadata": {},
   "outputs": [],
   "source": [
    "# Create a function to check the number of moves it takes  "
   ]
  },
  {
   "cell_type": "code",
   "execution_count": 2,
   "id": "cae31dd4",
   "metadata": {},
   "outputs": [
    {
     "name": "stdout",
     "output_type": "stream",
     "text": [
      "['x', 'x', 'x', 'y', 'y']\n",
      "['x', 'x', 'x', 'x', 'x', 'x', 'x', 'x', 'x', 'x', 'y', 'y', 'y', 'y', 'y', 'y', 'y', 'y', 'y', 'y']\n"
     ]
    }
   ],
   "source": [
    "# In a 20x20 grid there will always be 20 movements in the x direction\n",
    "# and 20 in the y direction. Create a function to generate a list\n",
    "# of size n, m where n, m are the number of sides in the grid.\n",
    "\n",
    "def grid_gen(n, m):\n",
    "    grid = []\n",
    "    for x in range(n):\n",
    "        grid.append('x')\n",
    "    for y in range(m):\n",
    "        grid.append('y')\n",
    "    return grid\n",
    "\n",
    "print(grid_gen(3,2))\n",
    "print(grid_gen(10,10))"
   ]
  }
 ],
 "metadata": {
  "kernelspec": {
   "display_name": "Python 3",
   "language": "python",
   "name": "python3"
  },
  "language_info": {
   "codemirror_mode": {
    "name": "ipython",
    "version": 3
   },
   "file_extension": ".py",
   "mimetype": "text/x-python",
   "name": "python",
   "nbconvert_exporter": "python",
   "pygments_lexer": "ipython3",
   "version": "3.8.8"
  }
 },
 "nbformat": 4,
 "nbformat_minor": 5
}
